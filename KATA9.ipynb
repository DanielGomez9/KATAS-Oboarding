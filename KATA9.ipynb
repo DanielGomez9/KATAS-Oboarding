{
 "cells": [
  {
   "cell_type": "markdown",
   "metadata": {},
   "source": [
    "# KATA 9"
   ]
  },
  {
   "cell_type": "markdown",
   "metadata": {},
   "source": [
    "## Uso de funciones en Python"
   ]
  },
  {
   "cell_type": "markdown",
   "metadata": {},
   "source": [
    "### Trabajar con argumentos en funciones"
   ]
  },
  {
   "cell_type": "code",
   "execution_count": 109,
   "metadata": {},
   "outputs": [],
   "source": [
    "def reporte(tanque1, tanque2, tanque3):\n",
    "    total_promedio = (tanque1 + tanque2 + tanque3 ) / 3\n",
    "    return f\"\"\"Reporte de combustible:\n",
    "    Total: {total_promedio}%\n",
    "    Tanque 1: {tanque1}%\n",
    "    Tanque 2: {tanque2}%\n",
    "    Tanque 3: {tanque3}% \n",
    "    \"\"\"\n"
   ]
  },
  {
   "cell_type": "code",
   "execution_count": 110,
   "metadata": {},
   "outputs": [
    {
     "name": "stdout",
     "output_type": "stream",
     "text": [
      "Reporte de combustible:\n",
      "    Total: 76.33333333333333%\n",
      "    Tanque 1: 45%\n",
      "    Tanque 2: 85%\n",
      "    Tanque 3: 99% \n",
      "    \n"
     ]
    }
   ],
   "source": [
    "print (reporte(45, 85, 99))"
   ]
  },
  {
   "cell_type": "code",
   "execution_count": 111,
   "metadata": {},
   "outputs": [
    {
     "data": {
      "text/plain": [
       "76.33333333333333"
      ]
     },
     "execution_count": 111,
     "metadata": {},
     "output_type": "execute_result"
    }
   ],
   "source": [
    "def combustible_promedio(tanques):\n",
    "    total = sum(tanques)\n",
    "    numero_de_tanques = len(tanques)\n",
    "    return total / numero_de_tanques\n",
    "combustible_promedio([45, 85, 99]) "
   ]
  },
  {
   "cell_type": "code",
   "execution_count": 112,
   "metadata": {},
   "outputs": [
    {
     "name": "stdout",
     "output_type": "stream",
     "text": [
      "Reporte de combustible:\n",
      "    Total: 76.33333333333333%\n",
      "    Tanque 1: 45%\n",
      "    Tanque 2: 85%\n",
      "    Tanque 3: 99% \n",
      "    \n"
     ]
    }
   ],
   "source": [
    "\n",
    "def reporte(tanque1, tanque2, tanque3):\n",
    "    return f\"\"\"Reporte de combustible:\n",
    "    Total: {promedio([tanque1 + tanque2 + tanque3])/3}%\n",
    "    Tanque 1: {tanque1}%\n",
    "    Tanque 2: {tanque2}%\n",
    "    Tanque 3: {tanque3}% \n",
    "    \"\"\"\n",
    "print (reporte(45, 85, 99))\n"
   ]
  },
  {
   "cell_type": "markdown",
   "metadata": {},
   "source": [
    "## Trabajo con argumentos de palabra clave"
   ]
  },
  {
   "cell_type": "markdown",
   "metadata": {},
   "source": [
    "### Trabajar con argumentos de palabras clave en funciones"
   ]
  },
  {
   "cell_type": "code",
   "execution_count": 113,
   "metadata": {},
   "outputs": [],
   "source": [
    "def mision (hora_de_prelanzamiento, hora_de_lanzamiento, tiempo_de_vuelo, destino, tanque_externo, tanque_interno):\n",
    "    return f\"\"\"\n",
    "    Mision a: {destino}\n",
    "    Hora de abordaje: {hora_de_prelanzamiento} horas\n",
    "    Hora de despegue: {hora_de_lanzamiento} horas\n",
    "    Tiempo de viaje: {tiempo_de_vuelo} horas\n",
    "    Combustible: {tanque_externo + tanque_interno} litros\n",
    "    \"\"\"\n"
   ]
  },
  {
   "cell_type": "code",
   "execution_count": 114,
   "metadata": {},
   "outputs": [
    {
     "name": "stdout",
     "output_type": "stream",
     "text": [
      "\n",
      "    Mision a: Marte\n",
      "    Hora de abordaje: 6:00 horas\n",
      "    Hora de despegue: 8:00 horas\n",
      "    Tiempo de viaje: 560 horas\n",
      "    Combustible: 15000 litros\n",
      "    \n"
     ]
    }
   ],
   "source": [
    "print(mision( \"6:00\", \"8:00\" , 560, \"Marte\", 10000, 5000))"
   ]
  },
  {
   "cell_type": "code",
   "execution_count": 115,
   "metadata": {},
   "outputs": [
    {
     "name": "stdout",
     "output_type": "stream",
     "text": [
      "\n",
      "    Mision a: Marte\n",
      "    Tiempo de viaje: (560,) horas\n",
      "    Combustible: 15000 litros\n",
      "    \n"
     ]
    }
   ],
   "source": [
    "def mision (destino, *tiempo_de_vuelo, **combustible):\n",
    "    return f\"\"\"\n",
    "    Mision a: {destino}\n",
    "    Tiempo de viaje: {tiempo_de_vuelo} horas\n",
    "    Combustible: {sum(combustible.values())} litros\n",
    "    \"\"\"\n",
    "print(mision( \"Marte\", 560, taque_externo=10000, tanque_interno= 5000))"
   ]
  },
  {
   "cell_type": "code",
   "execution_count": 131,
   "metadata": {},
   "outputs": [
    {
     "name": "stdout",
     "output_type": "stream",
     "text": [
      "\n",
      "    Mision a: Marte\n",
      "    Tiempo de viaje: (560,) horas\n",
      "    Combustible: 15000 litros\n",
      "    tanque_externo : 10000 litros restantes\n",
      "  tanque_interno : 5000 litros restantes\n",
      "  \n"
     ]
    }
   ],
   "source": [
    "def mision (destino, *tiempo_de_vuelo, **combustible):\n",
    "    informe = f\"\"\"\n",
    "    Mision a: {destino}\n",
    "    Tiempo de viaje: {tiempo_de_vuelo} horas\n",
    "    Combustible: {sum(combustible.values())} litros\n",
    "    \"\"\"\n",
    "    \n",
    "    for tanque, litros in combustible.items():\n",
    "        informe += f\"{tanque} : {litros} litros restantes\\n  \"\n",
    "    return informe\n",
    "\n",
    "print(mision( \"Marte\", 560, tanque_externo=10000, tanque_interno= 5000))\n"
   ]
  }
 ],
 "metadata": {
  "interpreter": {
   "hash": "b71b587ce32710a188bb58c15cc13897eced38fe5855f2d115bc09f0b8da6a21"
  },
  "kernelspec": {
   "display_name": "Python 3.10.2 64-bit (windows store)",
   "language": "python",
   "name": "python3"
  },
  "language_info": {
   "codemirror_mode": {
    "name": "ipython",
    "version": 3
   },
   "file_extension": ".py",
   "mimetype": "text/x-python",
   "name": "python",
   "nbconvert_exporter": "python",
   "pygments_lexer": "ipython3",
   "version": "3.10.2"
  },
  "orig_nbformat": 4
 },
 "nbformat": 4,
 "nbformat_minor": 2
}
