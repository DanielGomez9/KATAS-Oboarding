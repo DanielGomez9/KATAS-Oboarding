{
 "cells": [
  {
   "cell_type": "markdown",
   "metadata": {},
   "source": [
    "# KATA 5"
   ]
  },
  {
   "cell_type": "markdown",
   "metadata": {},
   "source": [
    "## Utilizar operadores aritmeticos"
   ]
  },
  {
   "cell_type": "markdown",
   "metadata": {},
   "source": [
    "### Operadores aritmeticos en Python"
   ]
  },
  {
   "cell_type": "code",
   "execution_count": 36,
   "metadata": {},
   "outputs": [
    {
     "name": "stdout",
     "output_type": "stream",
     "text": [
      " la distancia entre la Tierrea y Júpiter es de 628949330 Km\n",
      " la distancia entre la Tierrea y Júpiter es de 390577534 millas\n"
     ]
    }
   ],
   "source": [
    "Tierra= 149597870 #en km\n",
    "Júpiter= 778547200 # en km\n",
    "\n",
    "distancia = (abs(Tierra-Júpiter))\n",
    "distancia_millas= round (distancia*0.621)\n",
    "\n",
    "print(f\" la distancia entre la Tierrea y Júpiter es de {distancia} Km\")\n",
    "print(f\" la distancia entre la Tierrea y Júpiter es de {distancia_millas} millas\")"
   ]
  },
  {
   "cell_type": "markdown",
   "metadata": {},
   "source": [
    "## Convierte cadenas en números y usa valores absolutos"
   ]
  },
  {
   "cell_type": "markdown",
   "metadata": {},
   "source": [
    "### Crear una aplicación para trabajar con números y entrada de usuario"
   ]
  },
  {
   "cell_type": "code",
   "execution_count": 37,
   "metadata": {},
   "outputs": [],
   "source": [
    "planeta_1 = input('¿cual es la distancia al sol del planeta 1?')\n",
    "planeta_2 = input('¿cual es la distancia al sol del planeta 2?')"
   ]
  },
  {
   "cell_type": "markdown",
   "metadata": {},
   "source": [
    "### Convertir a enteros"
   ]
  },
  {
   "cell_type": "code",
   "execution_count": 38,
   "metadata": {},
   "outputs": [],
   "source": [
    "planeta_1 = int(planeta_1)\n",
    "planeta_2 = int(planeta_2)"
   ]
  },
  {
   "cell_type": "markdown",
   "metadata": {},
   "source": [
    "### Realizar el cálculo y convertir a valor absoluto\n"
   ]
  },
  {
   "cell_type": "code",
   "execution_count": 40,
   "metadata": {},
   "outputs": [
    {
     "name": "stdout",
     "output_type": "stream",
     "text": [
      "63918918 km\n",
      "ó 39693648 millas\n"
     ]
    }
   ],
   "source": [
    "distancia = (abs(planeta_1 - planeta_2))\n",
    "print(f'{distancia} km')\n",
    "\n",
    "distancia_millas= (round(distancia * 0.621))\n",
    "print(f'ó {distancia_millas} millas')\n"
   ]
  }
 ],
 "metadata": {
  "interpreter": {
   "hash": "b71b587ce32710a188bb58c15cc13897eced38fe5855f2d115bc09f0b8da6a21"
  },
  "kernelspec": {
   "display_name": "Python 3.10.2 64-bit (windows store)",
   "language": "python",
   "name": "python3"
  },
  "language_info": {
   "codemirror_mode": {
    "name": "ipython",
    "version": 3
   },
   "file_extension": ".py",
   "mimetype": "text/x-python",
   "name": "python",
   "nbconvert_exporter": "python",
   "pygments_lexer": "ipython3",
   "version": "3.10.2"
  },
  "orig_nbformat": 4
 },
 "nbformat": 4,
 "nbformat_minor": 2
}
