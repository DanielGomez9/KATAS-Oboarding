{
 "cells": [
  {
   "cell_type": "markdown",
   "metadata": {},
   "source": [
    "# KATA 3"
   ]
  },
  {
   "cell_type": "markdown",
   "metadata": {},
   "source": [
    "### Escribir declaraciones if, else, y elif"
   ]
  },
  {
   "cell_type": "code",
   "execution_count": 1,
   "metadata": {},
   "outputs": [
    {
     "name": "stdout",
     "output_type": "stream",
     "text": [
      "¡Houston, tenemos un problema! Un asteroide a exceso de velocidad\n"
     ]
    }
   ],
   "source": [
    "asteroide = 50\n",
    "if asteroide >= 25 :\n",
    "    print(\"¡Houston, tenemos un problema! Un asteroide a exceso de velocidad\")\n",
    "else :\n",
    "    print(\"¡Todo tranquilo!\")"
   ]
  },
  {
   "cell_type": "code",
   "execution_count": 2,
   "metadata": {},
   "outputs": [
    {
     "name": "stdout",
     "output_type": "stream",
     "text": [
      "Cielo despejado\n"
     ]
    }
   ],
   "source": [
    "asteroide = 19\n",
    "if asteroide == 20 :\n",
    "    print(\"¡Atención! La luz en el cielo no es un OVNI, es un asteroide entrando en la tierra\")\n",
    "elif asteroide > 20 :\n",
    "    print(\"¡Atención! La luz en el cielo no es un OVNI, es un asteroide entrando en la tierra\")\n",
    "else :\n",
    "    print(\"Cielo despejado\")"
   ]
  },
  {
   "cell_type": "markdown",
   "metadata": {},
   "source": [
    "### Uso de operadores and y or"
   ]
  },
  {
   "cell_type": "code",
   "execution_count": 3,
   "metadata": {},
   "outputs": [
    {
     "name": "stdout",
     "output_type": "stream",
     "text": [
      "Peligro de impacto por asteoride... proteja a su dinosaurio\n"
     ]
    }
   ],
   "source": [
    "velocidad_Asteroide = 30\n",
    "tamaño_Asteroide = 25\n",
    "if velocidad_Asteroide >= 25 and tamaño_Asteroide >= 25 and tamaño_Asteroide < 1000 :\n",
    "    print(\"Peligro de impacto por asteoride... proteja a su dinosaurio\")\n",
    "elif tamaño_Asteroide >= 1000 :\n",
    "    print(\"¡¡¡ SALVESE QUIEN PUEDA !!!\")\n",
    "elif velocidad_Asteroide >= 25 :\n",
    "    print(\"¡Houston, tenemos un problema! Un asteroide a exceso de velocidad!\")\n",
    "elif tamaño_Asteroide <= 20 :\n",
    "    print(\"Cielo despejado\")\n",
    "else :\n",
    "    print(\"¡Atención! La luz en el cielo no es un OVNI, es un asteroide entrando en la tierra!\")"
   ]
  }
 ],
 "metadata": {
  "interpreter": {
   "hash": "b89b5cfaba6639976dc87ff2fec6d58faec662063367e2c229c520fe71072417"
  },
  "kernelspec": {
   "display_name": "Python 3.10.2 64-bit",
   "language": "python",
   "name": "python3"
  },
  "language_info": {
   "codemirror_mode": {
    "name": "ipython",
    "version": 3
   },
   "file_extension": ".py",
   "mimetype": "text/x-python",
   "name": "python",
   "nbconvert_exporter": "python",
   "pygments_lexer": "ipython3",
   "version": "3.10.2"
  },
  "orig_nbformat": 4
 },
 "nbformat": 4,
 "nbformat_minor": 2
}
